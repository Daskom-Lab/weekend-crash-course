{
 "cells": [
  {
   "cell_type": "code",
   "execution_count": 8,
   "source": [
    "import tensorflow as tf"
   ],
   "outputs": [],
   "metadata": {}
  },
  {
   "cell_type": "code",
   "execution_count": 9,
   "source": [
    "mnist = tf.keras.datasets.mnist\r\n",
    "#load dataset, tulisan tangan digit dari 0 sampai 9 (mnist namanya)\r\n",
    "(x_train,y_train),(x_test,y_test)=mnist.load_data()"
   ],
   "outputs": [],
   "metadata": {}
  },
  {
   "cell_type": "code",
   "execution_count": 10,
   "source": [
    "x_train[12]"
   ],
   "outputs": [
    {
     "output_type": "execute_result",
     "data": {
      "text/plain": [
       "array([[  0,   0,   0,   0,   0,   0,   0,   0,   0,   0,   0,   0,   0,\n",
       "          0,   0,   0,   0,   0,   0,   0,   0,   0,   0,   0,   0,   0,\n",
       "          0,   0],\n",
       "       [  0,   0,   0,   0,   0,   0,   0,   0,   0,   0,   0,   0,   0,\n",
       "          0,   0,   0,   0,   0,   0,   0,   0,   0,   0,   0,   0,   0,\n",
       "          0,   0],\n",
       "       [  0,   0,   0,   0,   0,   0,   0,   0,   0,   0,   0,   0,   0,\n",
       "          0,   0,   0,   0,   0,   0,   0,   0,   0,   0,   0,   0,   0,\n",
       "          0,   0],\n",
       "       [  0,   0,   0,   0,   0,   0,   0,   0,   0,   0,   0,   0,   0,\n",
       "          0,   0,   0,   0,   0,   0,   0,   0,   0,   0,   0,   0,   0,\n",
       "          0,   0],\n",
       "       [  0,   0,   0,   0,   0,   0,   0,   0,   0,   0,   0,   0,   0,\n",
       "          0,   0,   0,   0,   0,   0,   0,   0,   0,   0,   0,   0,   0,\n",
       "          0,   0],\n",
       "       [  0,   0,   0,  12,  99,  91, 142, 155, 246, 182, 155, 155, 155,\n",
       "        155, 131,  52,   0,   0,   0,   0,   0,   0,   0,   0,   0,   0,\n",
       "          0,   0],\n",
       "       [  0,   0,   0, 138, 254, 254, 254, 254, 254, 254, 254, 254, 254,\n",
       "        254, 254, 252, 210, 122,  33,   0,   0,   0,   0,   0,   0,   0,\n",
       "          0,   0],\n",
       "       [  0,   0,   0, 220, 254, 254, 254, 235, 189, 189, 189, 189, 150,\n",
       "        189, 205, 254, 254, 254,  75,   0,   0,   0,   0,   0,   0,   0,\n",
       "          0,   0],\n",
       "       [  0,   0,   0,  35,  74,  35,  35,  25,   0,   0,   0,   0,   0,\n",
       "          0,  13, 224, 254, 254, 153,   0,   0,   0,   0,   0,   0,   0,\n",
       "          0,   0],\n",
       "       [  0,   0,   0,   0,   0,   0,   0,   0,   0,   0,   0,   0,   0,\n",
       "          0,  90, 254, 254, 247,  53,   0,   0,   0,   0,   0,   0,   0,\n",
       "          0,   0],\n",
       "       [  0,   0,   0,   0,   0,   0,   0,   0,   0,   0,   0,   0,   6,\n",
       "        152, 246, 254, 254,  49,   0,   0,   0,   0,   0,   0,   0,   0,\n",
       "          0,   0],\n",
       "       [  0,   0,   0,   0,   0,   0,   0,   0,   0,   0,   0,  66, 158,\n",
       "        254, 254, 249, 103,   8,   0,   0,   0,   0,   0,   0,   0,   0,\n",
       "          0,   0],\n",
       "       [  0,   0,   0,   0,   0,   0,   0,   0,   0,   0,  54, 251, 254,\n",
       "        254, 254, 248,  74,   5,   0,   0,   0,   0,   0,   0,   0,   0,\n",
       "          0,   0],\n",
       "       [  0,   0,   0,   0,   0,   0,   0,   0,   0,   0, 140, 254, 254,\n",
       "        254, 254, 254, 254, 202, 125,  45,   0,   0,   0,   0,   0,   0,\n",
       "          0,   0],\n",
       "       [  0,   0,   0,   0,   0,   0,   0,   0,   0,   0,  58, 181, 234,\n",
       "        254, 254, 254, 254, 254, 254, 252, 140,  22,   0,   0,   0,   0,\n",
       "          0,   0],\n",
       "       [  0,   0,   0,   0,   0,   0,   0,   0,   0,   0,   0,   0,  30,\n",
       "         50,  73, 155, 253, 254, 254, 254, 254, 191,   2,   0,   0,   0,\n",
       "          0,   0],\n",
       "       [  0,   0,   0,   0,   0,   0,   0,   0,   0,   0,   0,   0,   0,\n",
       "          0,   0,   0,  91, 200, 254, 254, 254, 254, 118,   0,   0,   0,\n",
       "          0,   0],\n",
       "       [  0,   0,   0,   0,   0,   0,   0,   0,   0,   0,   0,   0,   0,\n",
       "          0,   0,   0,   0,   4, 192, 254, 254, 254, 154,   0,   0,   0,\n",
       "          0,   0],\n",
       "       [  0,   0,   0,   0,   0,   0,   0,   0,   0,   0,   0,   0,   0,\n",
       "          0,   0,   0,   0,   0, 141, 254, 254, 254, 116,   0,   0,   0,\n",
       "          0,   0],\n",
       "       [  0,   0,   0,   0,   0,   0,   0,   0,  25, 126,  86,   0,   0,\n",
       "          0,   0,   0,   0,   3, 188, 254, 254, 250,  61,   0,   0,   0,\n",
       "          0,   0],\n",
       "       [  0,   0,   0,   0,   0,   0,   0,  24, 209, 254,  15,   0,   0,\n",
       "          0,   0,   0,  23, 137, 254, 254, 254, 209,   0,   0,   0,   0,\n",
       "          0,   0],\n",
       "       [  0,   0,   0,   0,   0,   0,   0, 168, 254, 254,  48,   9,   0,\n",
       "          0,   9, 127, 241, 254, 254, 255, 242,  63,   0,   0,   0,   0,\n",
       "          0,   0],\n",
       "       [  0,   0,   0,   0,   0,   0,   0, 101, 254, 254, 254, 205, 190,\n",
       "        190, 205, 254, 254, 254, 254, 242,  67,   0,   0,   0,   0,   0,\n",
       "          0,   0],\n",
       "       [  0,   0,   0,   0,   0,   0,   0,  33, 166, 254, 254, 254, 254,\n",
       "        254, 254, 254, 254, 250, 138,  55,   0,   0,   0,   0,   0,   0,\n",
       "          0,   0],\n",
       "       [  0,   0,   0,   0,   0,   0,   0,   0,   7,  88, 154, 116, 194,\n",
       "        194, 154, 154,  88,  49,   0,   0,   0,   0,   0,   0,   0,   0,\n",
       "          0,   0],\n",
       "       [  0,   0,   0,   0,   0,   0,   0,   0,   0,   0,   0,   0,   0,\n",
       "          0,   0,   0,   0,   0,   0,   0,   0,   0,   0,   0,   0,   0,\n",
       "          0,   0],\n",
       "       [  0,   0,   0,   0,   0,   0,   0,   0,   0,   0,   0,   0,   0,\n",
       "          0,   0,   0,   0,   0,   0,   0,   0,   0,   0,   0,   0,   0,\n",
       "          0,   0],\n",
       "       [  0,   0,   0,   0,   0,   0,   0,   0,   0,   0,   0,   0,   0,\n",
       "          0,   0,   0,   0,   0,   0,   0,   0,   0,   0,   0,   0,   0,\n",
       "          0,   0]], dtype=uint8)"
      ]
     },
     "metadata": {},
     "execution_count": 10
    }
   ],
   "metadata": {}
  },
  {
   "cell_type": "code",
   "execution_count": 11,
   "source": [
    "#wkwkkw yaudah kita gambar aja kali ya\r\n",
    "import matplotlib.pyplot as plt\r\n",
    "\r\n",
    "contoh=plt.imshow(x_train[12],cmap='gray')\r\n",
    "#makin putih makin 255 makin hitam makin 0"
   ],
   "outputs": [
    {
     "output_type": "display_data",
     "data": {
      "image/png": "[encoded data removed]",
      "text/plain": [
       "<Figure size 432x288 with 1 Axes>"
      ]
     },
     "metadata": {
      "needs_background": "light"
     }
    }
   ],
   "metadata": {}
  },
  {
   "cell_type": "code",
   "execution_count": 12,
   "source": [
    "#data kita reshape dulu, biar gampang komputer cerna nya\r\n",
    "\r\n",
    "x_train=x_train.reshape(60000,28,28,1)\r\n",
    "x_test=x_test.reshape(10000,28,28,1)\r\n",
    "x_train=x_train/255.0\r\n",
    "x_test=x_test/255.0"
   ],
   "outputs": [],
   "metadata": {}
  },
  {
   "cell_type": "code",
   "execution_count": 13,
   "source": [
    "# Parameters \r\n",
    "learning_rate = 0.001 \r\n",
    "training_epochs = 20 \r\n",
    "batch_size = 100 \r\n",
    "display_step = 1 \r\n"
   ],
   "outputs": [],
   "metadata": {}
  },
  {
   "cell_type": "code",
   "execution_count": 14,
   "source": [
    "# Network Parameters \r\n",
    "n_hidden_1 = 256 "
   ],
   "outputs": [],
   "metadata": {}
  },
  {
   "cell_type": "code",
   "execution_count": 15,
   "source": [
    "# 1st layer num features\r\n",
    "n_hidden_2 = 256 # 2nd layer num features \r\n",
    "n_input = 784 # MNIST data input (img shape: 28*28) \r\n",
    "n_classes = 10 \r\n",
    "# MNIST total classes (0-9 digits) "
   ],
   "outputs": [],
   "metadata": {}
  },
  {
   "cell_type": "code",
   "execution_count": 17,
   "source": [
    "# tf Graph input \r\n",
    "x = tf.TensorArray(\"float\", [None, n_input]) \r\n",
    "y = tf.TensorArray(\"float\", [None, n_classes]) "
   ],
   "outputs": [
    {
     "output_type": "error",
     "ename": "TypeError",
     "evalue": "'list' object cannot be interpreted as an integer",
     "traceback": [
      "\u001b[1;31m---------------------------------------------------------------------------\u001b[0m",
      "\u001b[1;31mTypeError\u001b[0m                                 Traceback (most recent call last)",
      "\u001b[1;32m<ipython-input-17-d72a21dcf61f>\u001b[0m in \u001b[0;36m<module>\u001b[1;34m\u001b[0m\n\u001b[0;32m      1\u001b[0m \u001b[1;31m# tf Graph input\u001b[0m\u001b[1;33m\u001b[0m\u001b[1;33m\u001b[0m\u001b[1;33m\u001b[0m\u001b[0m\n\u001b[1;32m----> 2\u001b[1;33m \u001b[0mx\u001b[0m \u001b[1;33m=\u001b[0m \u001b[0mtf\u001b[0m\u001b[1;33m.\u001b[0m\u001b[0mTensorArray\u001b[0m\u001b[1;33m(\u001b[0m\u001b[1;34m\"float\"\u001b[0m\u001b[1;33m,\u001b[0m \u001b[1;33m[\u001b[0m\u001b[1;32mNone\u001b[0m\u001b[1;33m,\u001b[0m \u001b[0mn_input\u001b[0m\u001b[1;33m]\u001b[0m\u001b[1;33m)\u001b[0m\u001b[1;33m\u001b[0m\u001b[1;33m\u001b[0m\u001b[0m\n\u001b[0m\u001b[0;32m      3\u001b[0m \u001b[0my\u001b[0m \u001b[1;33m=\u001b[0m \u001b[0mtf\u001b[0m\u001b[1;33m.\u001b[0m\u001b[0mTensorArray\u001b[0m\u001b[1;33m(\u001b[0m\u001b[1;34m\"float\"\u001b[0m\u001b[1;33m,\u001b[0m \u001b[1;33m[\u001b[0m\u001b[1;32mNone\u001b[0m\u001b[1;33m,\u001b[0m \u001b[0mn_classes\u001b[0m\u001b[1;33m]\u001b[0m\u001b[1;33m)\u001b[0m\u001b[1;33m\u001b[0m\u001b[1;33m\u001b[0m\u001b[0m\n",
      "\u001b[1;32m~\\anaconda3\\envs\\tf_gpu\\lib\\site-packages\\tensorflow\\python\\ops\\tensor_array_ops.py\u001b[0m in \u001b[0;36m__init__\u001b[1;34m(self, dtype, size, dynamic_size, clear_after_read, tensor_array_name, handle, flow, infer_shape, element_shape, colocate_with_first_write_call, name)\u001b[0m\n\u001b[0;32m   1066\u001b[0m     \u001b[1;32melse\u001b[0m\u001b[1;33m:\u001b[0m\u001b[1;33m\u001b[0m\u001b[1;33m\u001b[0m\u001b[0m\n\u001b[0;32m   1067\u001b[0m       \u001b[0mimplementation\u001b[0m \u001b[1;33m=\u001b[0m \u001b[0m_GraphTensorArray\u001b[0m\u001b[1;33m\u001b[0m\u001b[1;33m\u001b[0m\u001b[0m\n\u001b[1;32m-> 1068\u001b[1;33m     self._implementation = implementation(\n\u001b[0m\u001b[0;32m   1069\u001b[0m         \u001b[0mdtype\u001b[0m\u001b[1;33m,\u001b[0m\u001b[1;33m\u001b[0m\u001b[1;33m\u001b[0m\u001b[0m\n\u001b[0;32m   1070\u001b[0m         \u001b[0msize\u001b[0m\u001b[1;33m=\u001b[0m\u001b[0msize\u001b[0m\u001b[1;33m,\u001b[0m\u001b[1;33m\u001b[0m\u001b[1;33m\u001b[0m\u001b[0m\n",
      "\u001b[1;32m~\\anaconda3\\envs\\tf_gpu\\lib\\site-packages\\tensorflow\\python\\ops\\tensor_array_ops.py\u001b[0m in \u001b[0;36m__init__\u001b[1;34m(***failed resolving arguments***)\u001b[0m\n\u001b[0;32m    716\u001b[0m     \u001b[1;32mif\u001b[0m \u001b[0misinstance\u001b[0m\u001b[1;33m(\u001b[0m\u001b[0msize\u001b[0m\u001b[1;33m,\u001b[0m \u001b[0mops\u001b[0m\u001b[1;33m.\u001b[0m\u001b[0mEagerTensor\u001b[0m\u001b[1;33m)\u001b[0m\u001b[1;33m:\u001b[0m\u001b[1;33m\u001b[0m\u001b[1;33m\u001b[0m\u001b[0m\n\u001b[0;32m    717\u001b[0m       \u001b[0msize\u001b[0m \u001b[1;33m=\u001b[0m \u001b[0msize\u001b[0m\u001b[1;33m.\u001b[0m\u001b[0mnumpy\u001b[0m\u001b[1;33m(\u001b[0m\u001b[1;33m)\u001b[0m\u001b[1;33m\u001b[0m\u001b[1;33m\u001b[0m\u001b[0m\n\u001b[1;32m--> 718\u001b[1;33m     \u001b[0mself\u001b[0m\u001b[1;33m.\u001b[0m\u001b[0m_tensor_array\u001b[0m \u001b[1;33m=\u001b[0m \u001b[1;33m[\u001b[0m\u001b[1;32mNone\u001b[0m \u001b[1;32mfor\u001b[0m \u001b[0m_\u001b[0m \u001b[1;32min\u001b[0m \u001b[0mrange\u001b[0m\u001b[1;33m(\u001b[0m\u001b[0msize\u001b[0m\u001b[1;33m)\u001b[0m\u001b[1;33m]\u001b[0m\u001b[1;33m\u001b[0m\u001b[1;33m\u001b[0m\u001b[0m\n\u001b[0m\u001b[0;32m    719\u001b[0m \u001b[1;33m\u001b[0m\u001b[0m\n\u001b[0;32m    720\u001b[0m   \u001b[1;33m@\u001b[0m\u001b[0mproperty\u001b[0m\u001b[1;33m\u001b[0m\u001b[1;33m\u001b[0m\u001b[0m\n",
      "\u001b[1;31mTypeError\u001b[0m: 'list' object cannot be interpreted as an integer"
     ]
    }
   ],
   "metadata": {}
  },
  {
   "cell_type": "code",
   "execution_count": null,
   "source": [
    "# weights layer 1 \r\n",
    "h = tf.Variable(tf.random_normal([n_input, n_hidden_1])) # bias layer 1 \r\n",
    "bias_layer_1 = tf.Variable(tf.random_normal([n_hidden_1])) \r\n",
    "# layer 1 \r\n",
    "layer_1 = tf.nn.sigmoid(tf.add(tf.matmul(x, h), bias_layer_1)) \r\n"
   ],
   "outputs": [],
   "metadata": {}
  },
  {
   "cell_type": "code",
   "execution_count": null,
   "source": [
    "# weights layer 2 \r\n",
    "w = tf.Variable(tf.random_normal([n_hidden_1, n_hidden_2])) "
   ],
   "outputs": [],
   "metadata": {}
  },
  {
   "cell_type": "code",
   "execution_count": null,
   "source": [
    "# bias layer 2 \r\n",
    "bias_layer_2 = tf.Variable(tf.random_normal([n_hidden_2])) "
   ],
   "outputs": [],
   "metadata": {}
  },
  {
   "cell_type": "code",
   "execution_count": null,
   "source": [
    "# layer 2 \r\n",
    "layer_2 = tf.nn.sigmoid(tf.add(tf.matmul(layer_1, w), bias_layer_2)) "
   ],
   "outputs": [],
   "metadata": {}
  },
  {
   "cell_type": "code",
   "execution_count": null,
   "source": [
    "# weights output layer \r\n",
    "output = tf.Variable(tf.random_normal([n_hidden_2, n_classes])) "
   ],
   "outputs": [],
   "metadata": {}
  },
  {
   "cell_type": "code",
   "execution_count": null,
   "source": [
    "# biar output layer \r\n",
    "bias_output = tf.Variable(tf.random_normal([n_classes])) \r\n",
    "# output layer \r\n",
    "output_layer = tf.matmul(layer_2, output) + bias_output\r\n"
   ],
   "outputs": [],
   "metadata": {}
  },
  {
   "cell_type": "code",
   "execution_count": null,
   "source": [
    "# cost function \r\n",
    "cost = tf.reduce_mean(tf.nn.sigmoid_cross_entropy_with_logits(\r\n",
    "   logits = output_layer, labels = y)) "
   ],
   "outputs": [],
   "metadata": {}
  },
  {
   "cell_type": "code",
   "execution_count": null,
   "source": [
    "#cost = tf.reduce_mean(tf.nn.sigmoid_cross_entropy_with_logits(output_layer, y)) \r\n",
    "# optimizer \r\n",
    "optimizer = tf.train.AdamOptimizer(learning_rate = learning_rate).minimize(cost) \r\n",
    "# optimizer = tf.train.GradientDescentOptimizer(\r\n",
    "#   learning_rate = learning_rate).minimize(cost) "
   ],
   "outputs": [],
   "metadata": {}
  },
  {
   "cell_type": "code",
   "execution_count": null,
   "source": [
    "# Plot settings \r\n",
    "avg_set = [] \r\n",
    "epoch_set = [] "
   ],
   "outputs": [],
   "metadata": {}
  },
  {
   "cell_type": "code",
   "execution_count": null,
   "source": [
    "# Launch the graph \r\n",
    "with tf.Session() as sess: \r\n",
    "   sess.run(init) \r\n",
    "   \r\n",
    "   # Training cycle\r\n",
    "   for epoch in range(training_epochs): \r\n",
    "      avg_cost = 0. \r\n",
    "      total_batch = int(mnist.train.num_examples / batch_size) \r\n",
    "      \r\n",
    "      # Loop over all batches \r\n",
    "      for i in range(total_batch): \r\n",
    "         batch_xs, batch_ys = mnist.train.next_batch(batch_size) \r\n",
    "         # Fit training using batch data \r\n",
    "         sess.run(optimizer, feed_dict = {x: batch_xs, y: batch_ys}) \r\n",
    "         # Compute average loss \r\n",
    "         avg_cost += sess.run(cost, feed_dict = {x: batch_xs, y: batch_ys}) / total_batch\r\n",
    "      # Display logs per epoch step \r\n",
    "      if epoch % display_step == 0: \r\n",
    "         print(\"Epoch:\", '%04d' % (epoch + 1), \"cost=\", \"{:.9f}\".format(avg_cost))\r\n",
    "      avg_set.append(avg_cost) \r\n",
    "      epoch_set.append(epoch + 1)\r\n",
    "   print(\"Training phase finished\" )\r\n",
    "\r\n",
    "   plt.plot(epoch_set, avg_set, 'o', label = 'MLP Training phase') \r\n",
    "   plt.ylabel('cost') \r\n",
    "   plt.xlabel('epoch') \r\n",
    "   plt.legend() \r\n",
    "   plt.show() \r\n",
    "   correct_prediction = tf.equal(tf.argmax(output_layer, 1), tf.argmax(y, 1)) \r\n",
    "   accuracy = tf.reduce_mean(tf.cast(correct_prediction, \"float\")) \r\n",
    "   print(\"Model Accuracy:\", accuracy.eval({x: mnist.test.images, y: mnist.test.labels}))"
   ],
   "outputs": [],
   "metadata": {}
  }
 ],
 "metadata": {
  "orig_nbformat": 4,
  "language_info": {
   "name": "python",
   "version": "3.8.8",
   "mimetype": "text/x-python",
   "codemirror_mode": {
    "name": "ipython",
    "version": 3
   },
   "pygments_lexer": "ipython3",
   "nbconvert_exporter": "python",
   "file_extension": ".py"
  },
  "kernelspec": {
   "name": "python3",
   "display_name": "Python 3.8.8 64-bit (system)"
  },
  "interpreter": {
   "hash": "afa84da41580b5478eb3d82816b7c3ca810ce5a1a203e6d94c0c5545600c53ae"
  }
 },
 "nbformat": 4,
 "nbformat_minor": 2
}